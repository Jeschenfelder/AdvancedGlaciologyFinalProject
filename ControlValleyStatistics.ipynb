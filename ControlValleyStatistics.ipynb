{
 "cells": [
  {
   "cell_type": "markdown",
   "metadata": {},
   "source": [
    "# Statistical Analysis of Polygon characteristics across a stream in McMurdo Dry Valleys\n",
    "**Methods:** \n",
    " - Divide mapped region into grid\n",
    " - Calculate common statistics for Polygons within each grid cell\n",
    " - Calculate intersection style and angles within each grid cell"
   ]
  },
  {
   "cell_type": "code",
   "execution_count": 11,
   "metadata": {},
   "outputs": [],
   "source": [
    "import numpy as np\n",
    "import matplotlib.pyplot as plt\n",
    "from rasterio.transform import AffineTransformer\n",
    "import geopandas as gpd\n",
    "import pandas as pd\n",
    "from apdt.stats import calculate_intersection_angles\n",
    "from apdt.pre_processing import import_raw_dem\n",
    "import shapely.geometry as geom"
   ]
  },
  {
   "cell_type": "code",
   "execution_count": 12,
   "metadata": {},
   "outputs": [],
   "source": [
    "def transform_geometry(geometry,transformer):\n",
    "    def trans_it(x,y):\n",
    "        yt,xt = transformer.rowcol(xs=x,ys=y)\n",
    "        points = list(zip(xt,yt))\n",
    "        return points\n",
    "\n",
    "\n",
    "    if type(geometry) == geom.polygon.Polygon:\n",
    "        x,y = geometry.boundary.coords.xy\n",
    "        trans_geometry = geom.Polygon(trans_it(x,y))\n",
    "    elif type(geometry) == geom.linestring.LineString:\n",
    "        x,y = geometry.coords.xy\n",
    "        trans_geometry = geom.LineString(trans_it(x,y))\n",
    "    elif type(geometry) == geom.point.Point:\n",
    "        x,y = geometry.coords.xy\n",
    "        trans_geometry = geom.Point(trans_it(x,y))\n",
    "    \n",
    "    return trans_geometry"
   ]
  },
  {
   "cell_type": "code",
   "execution_count": 128,
   "metadata": {},
   "outputs": [
    {
     "name": "stdout",
     "output_type": "stream",
     "text": [
      "the minimum raster value:  321.2753\n",
      "the maximum raster value:  417.9084\n",
      "0.5th percentile:  324.41666229248045\n",
      "1st percentile:  325.4610653686523\n",
      "5th percentile:  328.31048583984375\n",
      "50th percentile:  342.9844055175781\n",
      "75th percentile:  355.631591796875\n",
      "90th percentile:  370.5914642333984\n",
      "95th percentile:  381.4447937011719\n",
      "99.99th percentile:  416.64740344543435\n",
      "99.991th percentile:  416.68496138244626\n",
      "99.995th percentile:  416.72032447021485\n",
      "99.999th percentile:  417.4212129251098\n"
     ]
    }
   ],
   "source": [
    "# Load in DEM and mapped Polygons\n",
    "dem_path = 'DEMs/70-81_clipStream.tif'\n",
    "path_in = 'Outputs/EastValley/70-87_clipSouth_'\n",
    "path_figs = 'FIGURES/South_'\n",
    "\n",
    "dem, trans_mat, crs = import_raw_dem(dem_path)\n",
    "transformer = AffineTransformer(trans_mat)\n",
    "\n",
    "poly_gdf = gpd.read_file(path_in+'Polygons')\n",
    "poly_list = [transform_geometry(p,transformer) for p in poly_gdf['geometry']]"
   ]
  },
  {
   "cell_type": "code",
   "execution_count": 114,
   "metadata": {},
   "outputs": [],
   "source": [
    "trough_gdf = gpd.read_file(path_in+'Troughs')\n",
    "trough_list = [transform_geometry(p,transformer) for p in trough_gdf['geometry']]\n",
    "\n",
    "node_gdf = gpd.read_file(path_in+'Nodes')\n",
    "node_list = [transform_geometry(n,transformer) for n in node_gdf['geometry']]\n",
    "\n",
    "# recreate edges list for graphing:\n",
    "edges = []\n",
    "for trough in trough_list:\n",
    "    x,y = trough.xy\n",
    "    start = geom.Point((x[0],y[0]))\n",
    "    stop = geom.Point((x[-1],y[-1]))\n",
    "    edges.append({'start':start,'stop':stop,'path':trough})\n"
   ]
  },
  {
   "cell_type": "markdown",
   "metadata": {},
   "source": [
    "## Size & Shape\n",
    "Calculate Area, size, Length/Width, Aspect Ratio"
   ]
  },
  {
   "cell_type": "code",
   "execution_count": 124,
   "metadata": {},
   "outputs": [],
   "source": [
    "def cart_distance(x1,x2,y1,y2):\n",
    "    return np.sqrt((x1-x2)**2 + (y1-y2)**2)\n",
    "\n",
    "def calculate_stats(polygons):\n",
    "    df = pd.DataFrame(columns=['Area_m2','Width_m','Length_m','Aspect_Ratio','Size_m','Perimeter_m','Thickness_ratio'])\n",
    "    for p in polygons:\n",
    "        A = p.area #Area in m2\n",
    "        s = np.sqrt(4*A/np.pi) #Size in m\n",
    "        per = p.boundary.length\n",
    "        bbox = p.minimum_rotated_rectangle\n",
    "        x_coord = bbox.boundary.coords.xy[0][:4] \n",
    "        y_coord = bbox.boundary.coords.xy[1][:4]\n",
    "        thick = A/bbox.area\n",
    "\n",
    "        l_edge = [cart_distance(x_coord[0],x_coord[1],y_coord[0],y_coord[1]),cart_distance(x_coord[1],x_coord[2],y_coord[1],y_coord[2])] # bounding box edge lenghts in metres\n",
    "\n",
    "        if l_edge[0] > l_edge[1]:\n",
    "            l = l_edge[0]\n",
    "            w = l_edge[1]\n",
    "        else:\n",
    "            l = l_edge[1]\n",
    "            w = l_edge[0]\n",
    "        aspect = l/w\n",
    "\n",
    "        # adding results to new row:\n",
    "        new_row = {'Area_m2':A,'Width_m':w,'Length_m':l,'Aspect_Ratio':aspect,'Size_m':s,'Perimeter_m':per,'Thickness_ratio':thick}\n",
    "        df = pd.concat([df,pd.DataFrame.from_records([new_row])], ignore_index=True)\n",
    "    return df"
   ]
  },
  {
   "cell_type": "code",
   "execution_count": 129,
   "metadata": {},
   "outputs": [],
   "source": [
    "stats_df = calculate_stats(poly_list)\n",
    "stats_df.to_csv(path_in+'stats.csv',index=False)"
   ]
  },
  {
   "cell_type": "markdown",
   "metadata": {},
   "source": [
    "## Intersection Angles\n",
    "Calculate Intersection Angles, number of triple and quadruple junctions. \n",
    "\n",
    "Binned mode angle of each cell? Expectation: near 90 nearby to stream and 120 away"
   ]
  },
  {
   "cell_type": "code",
   "execution_count": 117,
   "metadata": {},
   "outputs": [],
   "source": [
    "import networkx as nx"
   ]
  },
  {
   "cell_type": "code",
   "execution_count": 118,
   "metadata": {},
   "outputs": [],
   "source": [
    "min_distance = 1\n",
    "\n",
    "graph = nx.Graph()\n",
    "for edge in edges:\n",
    "    start = (edge['start'].coords.xy[0][0],edge['start'].coords.xy[1][0])\n",
    "    stop = (edge['stop'].coords.xy[0][0],edge['stop'].coords.xy[1][0])\n",
    "    graph.add_edge(start,stop,path=edge['path'],length=edge['path'].length)\n",
    "\n",
    "#Find and remove too short paths:\n",
    "new_graph = graph #copy graph\n",
    "for edge in graph.edges:\n",
    "    n1 = edge[0]\n",
    "    n2 = edge[1]\n",
    "    l = graph.get_edge_data(n1,n2)['length'] #get length of edge\n",
    "    if l < min_distance: #minimum length in number of pixels\n",
    "        try:\n",
    "            new_graph.remove_edge(n1,n2)\n",
    "            new_graph = nx.contracted_nodes(new_graph,n1,n2)\n",
    "        except:\n",
    "            print('Edge %s to %s not found. Skipping...' %(n1,n2))\n"
   ]
  },
  {
   "cell_type": "code",
   "execution_count": 119,
   "metadata": {},
   "outputs": [],
   "source": [
    "def construct_edge_vectors(node,graph):\n",
    "    '''\n",
    "    Function to construct vectors for all edges intersecting at a given node.\n",
    "    '''\n",
    " \n",
    "    edge_vectors = []\n",
    "    for e in graph.edges(node):\n",
    "        base = e[0]\n",
    "        tip = e[1]\n",
    "        edge_vectors.append((tip[0]-base[0],tip[1]-base[1])) #construct vector and normalise\n",
    "    return edge_vectors\n"
   ]
  },
  {
   "cell_type": "code",
   "execution_count": 120,
   "metadata": {},
   "outputs": [
    {
     "name": "stdout",
     "output_type": "stream",
     "text": [
      "Mean Intersection Angle: 117.1°\n"
     ]
    }
   ],
   "source": [
    "intersection_angles = []\n",
    "for n in new_graph.nodes():\n",
    "    edge_vectors = construct_edge_vectors(n,new_graph)\n",
    "    if len(edge_vectors) >2:\n",
    "        edge_angles = calculate_intersection_angles(edge_vectors)\n",
    "        for i in edge_angles:\n",
    "            intersection_angles.append(i)\n",
    "\n",
    "print('Mean Intersection Angle: %.1f\\u00b0' %(np.mean(intersection_angles)))"
   ]
  },
  {
   "cell_type": "code",
   "execution_count": 121,
   "metadata": {},
   "outputs": [
    {
     "name": "stdout",
     "output_type": "stream",
     "text": [
      "2184 158 1086 116\n"
     ]
    }
   ],
   "source": [
    "tr = 0\n",
    "qu = 0\n",
    "terminal = 0\n",
    "other = 0\n",
    "\n",
    "for n in new_graph.nodes:\n",
    "    num = len(new_graph.edges(n))\n",
    "    if num == 1:\n",
    "        terminal +=1\n",
    "    elif num == 3:\n",
    "        tr +=1\n",
    "    elif num ==4:\n",
    "        qu +=1\n",
    "    else:\n",
    "        other +=1\n",
    "print(tr,qu,terminal,other)"
   ]
  },
  {
   "cell_type": "code",
   "execution_count": 122,
   "metadata": {},
   "outputs": [
    {
     "data": {
      "image/png": "[encoded data removed]",
      "text/plain": [
       "<Figure size 600x600 with 1 Axes>"
      ]
     },
     "metadata": {},
     "output_type": "display_data"
    }
   ],
   "source": [
    "# histogram of intersection angles:\n",
    "fig,ax = plt.subplots(1,1,figsize=(6,6),layout='tight')\n",
    "\n",
    "ax.hist(intersection_angles,bins=100,weights=np.ones(len(intersection_angles)) / len(intersection_angles),range=(0,250),align='mid')\n",
    "\n",
    "ax.set_xticks(np.arange(0,250,20))\n",
    "ax.set_ylim(0,0.04)\n",
    "ax.set_xlim(0,250)\n",
    "ax.vlines([60,90,120,180],0,1,colors='black',linestyles='dashed')\n",
    "ax.text(220,0.0385,f'n={len(intersection_angles)}')\n",
    "\n",
    "ax.set_xlabel('Intersection Angle ($^\\circ$)')\n",
    "ax.set_ylabel('Normalised Count (%)')\n",
    "\n",
    "fig.savefig(path_figs+'intersection_histogram.png');"
   ]
  },
  {
   "cell_type": "code",
   "execution_count": 123,
   "metadata": {},
   "outputs": [],
   "source": [
    "df = pd.DataFrame({'triple':tr,'quadruple': qu,'terminal': terminal,'angles':intersection_angles})\n",
    "df.to_csv(path_in+'intersections.csv',index=False)"
   ]
  }
 ],
 "metadata": {
  "kernelspec": {
   "display_name": "base",
   "language": "python",
   "name": "python3"
  },
  "language_info": {
   "codemirror_mode": {
    "name": "ipython",
    "version": 3
   },
   "file_extension": ".py",
   "mimetype": "text/x-python",
   "name": "python",
   "nbconvert_exporter": "python",
   "pygments_lexer": "ipython3",
   "version": "3.10.13"
  }
 },
 "nbformat": 4,
 "nbformat_minor": 2
}
